{
 "cells": [
  {
   "cell_type": "markdown",
   "metadata": {},
   "source": [
    "# Bhaskara - atividade avançada \n",
    "\n",
    "Implementação do codigo de Bhaskara da atividade mínima, mas agora considerando que 'a'  seja diferente de zero, usando o assert $a!= 0$,\n",
    "como também não permitindo raízes complexas, por meio do raise ValueError:\n",
    "\n",
    "\n",
    "Se o $\\Delta<0$:\n",
    "raise ValueError('O delta nao pode ser negativo').\n",
    "\n",
    "Obs: o assert é utilizado para verificar se uma expressão é verdadeira. "
   ]
  },
  {
   "cell_type": "code",
   "execution_count": null,
   "metadata": {},
   "outputs": [
    {
     "name": "stdout",
     "output_type": "stream",
     "text": [
      "(3.0, 2.0)\n",
      "1.32 µs ± 121 ns per loop (mean ± std. dev. of 7 runs, 1,000,000 loops each)\n"
     ]
    }
   ],
   "source": [
    "def Bhaskara(a, b, c):\n",
    "    \"\"\"\n",
    "    Calcula as raízes de uma equação quadrática da forma ax^2 + bx + c = 0.\n",
    "\n",
    "    Parâmetros:\n",
    "    a (float): Coeficiente quadrático (deve ser diferente de zero).\n",
    "    b (float): Coeficiente linear.\n",
    "    c (float): Termo constante.\n",
    "\n",
    "    Retorna:\n",
    "    tuple: Uma tupla contendo as raízes reais da equação.\n",
    "\n",
    "    Levanta:\n",
    "    AssertionError: Se 'a' for zero.\n",
    "    ValueError: Se o delta for negativo (raízes complexas).\n",
    "    \"\"\"\n",
    "    delta = b**2 - 4*a*c\n",
    "    assert a != 0, \"O coeficiente 'a' não pode ser zero\"\n",
    "\n",
    "    if delta < 0:\n",
    "        raise ValueError('O delta não pode ser negativo')\n",
    "\n",
    "    if delta == 0:\n",
    "        x = -b / (2*a)\n",
    "        return (x,)\n",
    "    else:\n",
    "        x1 = (-b + (delta)**(1/2)) / (2*a)\n",
    "        x2 = (-b - (delta)**(1/2)) / (2*a)\n",
    "        return (x1, x2)\n",
    "\n",
    "#teste_assert = Bhaskara(0,5,-10)\n",
    "#print(teste_assert)\n",
    "\n",
    "#teste_valueerror = Bhaskara(1,2,3)\n",
    "#print(teste_valueerror)\n",
    "\n",
    "teste = Bhaskara(1,-5,6)\n",
    "print(teste)\n",
    "\n",
    "'''\n",
    "Em comentário estão os dois casos abordados nesse código: verificando a aplicação do assert no caso em que a é zero e ValueError .\n",
    "'''\n",
    "\n",
    "%timeit Bhaskara(1,-5,6)"
   ]
  }
 ],
 "metadata": {
  "kernelspec": {
   "display_name": "fiscomp",
   "language": "python",
   "name": "python3"
  },
  "language_info": {
   "codemirror_mode": {
    "name": "ipython",
    "version": 3
   },
   "file_extension": ".py",
   "mimetype": "text/x-python",
   "name": "python",
   "nbconvert_exporter": "python",
   "pygments_lexer": "ipython3",
   "version": "3.13.2"
  }
 },
 "nbformat": 4,
 "nbformat_minor": 2
}
