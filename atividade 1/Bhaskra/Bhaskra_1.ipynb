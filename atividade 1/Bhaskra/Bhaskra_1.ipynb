{
 "cells": [
  {
   "cell_type": "markdown",
   "metadata": {},
   "source": [
    "# Bhaskara - atividade mínima/intermediária\n",
    "A função de Bhaskara recebe três parâmetros correspondentes aos coeficientes da equação do segundo grau:  \n",
    "$$\n",
    "ax^2 + bx + c = 0.\n",
    "$$ \n",
    "\n",
    "Se $a = 0$, a equação deixa de ser do segundo grau e a solução é dada por $ x = -c/b $.  \n",
    "\n",
    "Se $\\Delta = 0 $, há apenas uma solução para $x$.  \n",
    "\n",
    "Caso contrário, as duas soluções da equação (incluindo o caso em que $\\Delta < 0 $) são dadas pela fórmula de Bhaskara.  \n",
    "\n",
    "\n"
   ]
  },
  {
   "cell_type": "code",
   "execution_count": 1,
   "metadata": {},
   "outputs": [
    {
     "name": "stdout",
     "output_type": "stream",
     "text": [
      "As duas raízes são ((-0.9999999999999999+1.4142135623730951j), (-1-1.4142135623730951j))\n",
      "A raíz é 5.0\n",
      "1.66 μs ± 66 ns per loop (mean ± std. dev. of 7 runs, 100,000 loops each)\n",
      "464 ns ± 18.4 ns per loop (mean ± std. dev. of 7 runs, 1,000,000 loops each)\n"
     ]
    }
   ],
   "source": [
    "\n",
    "def Bhaskara(a,b,c):\n",
    "\n",
    "    \"\"\"\n",
    "    Resolve uma equação quadrática da forma ax^2 + bx + c = 0.\n",
    "\n",
    "    Parâmetros:\n",
    "    a (float): Coeficiente quadrático.\n",
    "    b (float): Coeficiente linear.\n",
    "    c (float): Termo constante.\n",
    "\n",
    "    Retorna:\n",
    "    float or tuple: Se a = 0, retorna a solução linear. Se delta = 0, retorna uma única raiz.\n",
    "                    Caso contrário, retorna uma tupla com as duas raízes (podendo ser complexas).\n",
    "    \"\"\"\n",
    "        \n",
    "    if a==0:\n",
    "        return -c/b\n",
    "    \n",
    "    delta = b**2 -4*a*c   \n",
    "\n",
    "    if delta == 0:\n",
    "        x = -b/(2*a)\n",
    "        return (x)\n",
    "    else:\n",
    "        x1 = (-b + (delta)**(1/2))/(2*a)\n",
    "        x2 = (-b - (delta)**(1/2))/(2*a)\n",
    "        return (x1, x2) #A tupla com as duas raizes\n",
    "\n",
    "raizes1 = Bhaskara(1,2,3)\n",
    "raizes2= Bhaskara(1,-10,25)\n",
    "\n",
    "print(f'As duas raízes são {raizes1}')\n",
    "print(f'A raíz é {raizes2}')\n",
    "\n",
    "%timeit Bhaskara(1, 2,3) #teste33\n",
    "%timeit Bhaskara(1,-10,25) #teste 34"
   ]
  }
 ],
 "metadata": {
  "kernelspec": {
   "display_name": "fiscomp",
   "language": "python",
   "name": "python3"
  },
  "language_info": {
   "codemirror_mode": {
    "name": "ipython",
    "version": 3
   },
   "file_extension": ".py",
   "mimetype": "text/x-python",
   "name": "python",
   "nbconvert_exporter": "python",
   "pygments_lexer": "ipython3",
   "version": "3.13.2"
  }
 },
 "nbformat": 4,
 "nbformat_minor": 2
}
