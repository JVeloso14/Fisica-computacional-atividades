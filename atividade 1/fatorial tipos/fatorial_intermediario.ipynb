{
 "cells": [
  {
   "cell_type": "markdown",
   "metadata": {},
   "source": [
    "# Fatorial - atividade intermediária 2\n",
    "\n",
    "\n",
    "Programa que calcula o fatorial de um número inteiro\n",
    "utilizando a ideia de que o primeiro resultado multiplica i+1 , onde i representa os numeros inteiros começando do 1\n",
    "\n",
    "```Explicação supondo n=4```\n",
    "\n",
    "1- Inicializa com $fat = 1$ e $i=1$\n",
    "\n",
    "2 - Enquanto i for menor que o número que o usuário entra com  n(no caso 4),\n",
    "$$fat = fat * i = 1*1$$\n",
    "$$i = i+1 =2$$\n",
    "\n",
    "3 - i ainda é menor ou igual a 4, então \n",
    "$$fat = 1*2 =2$$\n",
    "$$i = i+1 =3$$\n",
    "\n",
    "4- Verifica novamente se $i <= 4$:\n",
    "$$fat = 2 *3 = 6 $$\n",
    "$$i= i+1 = 4$$\n",
    "\n",
    "5- Por fim\n",
    "$$fat = 6 * 4 = 24$$\n",
    "$$i = i+1 = 5$$\n",
    "```retorna fat (4!= 24)``` , já que i = 5.\n"
   ]
  },
  {
   "cell_type": "code",
   "execution_count": null,
   "metadata": {},
   "outputs": [
    {
     "name": "stdout",
     "output_type": "stream",
     "text": [
      "O fatorial de 0 é 1\n",
      "O fatorial de 5 é 120\n"
     ]
    }
   ],
   "source": [
    "def fatorial(n):\n",
    "    \"\"\"\n",
    "    Calcula o fatorial de um número inteiro n de forma iterativa.\n",
    "\n",
    "    Parâmetros:\n",
    "    n (int): O número inteiro para calcular o fatorial.\n",
    "\n",
    "    Retorna:\n",
    "    int: O fatorial de n.\n",
    "    \"\"\"\n",
    "    fat = 1\n",
    "    i = 1\n",
    "    while i <= n:\n",
    "        fat *= i\n",
    "        i += 1\n",
    "    return fat\n",
    "\n",
    "print(f'O fatorial de 0 é {fatorial(0)}')\n",
    "print(f'O fatorial de 5 é {fatorial(5)}')\n"
   ]
  }
 ],
 "metadata": {
  "kernelspec": {
   "display_name": "base",
   "language": "python",
   "name": "python3"
  },
  "language_info": {
   "codemirror_mode": {
    "name": "ipython",
    "version": 3
   },
   "file_extension": ".py",
   "mimetype": "text/x-python",
   "name": "python",
   "nbconvert_exporter": "python",
   "pygments_lexer": "ipython3",
   "version": "3.11.5"
  }
 },
 "nbformat": 4,
 "nbformat_minor": 2
}
