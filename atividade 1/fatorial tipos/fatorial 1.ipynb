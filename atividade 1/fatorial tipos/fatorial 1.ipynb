{
 "cells": [
  {
   "cell_type": "markdown",
   "metadata": {},
   "source": [
    "# Fatorial - atividade mínima\n",
    "\n",
    "A partir do valor inicial, a variável ```resultado``` atualiza seu valor a cada iteração até n+1, por meio do ```resultado = resultado*i```. Para isso\n",
    "foi utilizado o ```for i in range(1, n+1)```,  onde i vai de 1 até n+1. \n",
    "\n",
    "Obs: A lógica é fazer 1 x 2 x 3 ... n . Se $n=0$, então simplesmente 1x1 = 1"
   ]
  },
  {
   "cell_type": "code",
   "execution_count": null,
   "metadata": {},
   "outputs": [
    {
     "name": "stdout",
     "output_type": "stream",
     "text": [
      "O fatorial de 3 é 6\n",
      "O fatorial de 0 é 1\n",
      "O fatorial de 10 é 3628800\n"
     ]
    }
   ],
   "source": [
    "def fatorial(n):\n",
    "    \"\"\"\n",
    "    Calcula o fatorial de um número inteiro.\n",
    "\n",
    "    Parâmetros:\n",
    "    n (int): O número para calcular o fatorial.\n",
    "\n",
    "    Retorna:\n",
    "    int: O fatorial de 'n'.\n",
    "    \"\"\"\n",
    "    resultado = 1\n",
    "    for i in range(1, n + 1):\n",
    "        resultado *= i  \n",
    "    return resultado\n",
    "\n",
    "print(f\"O fatorial de 3 é {fatorial(3)}\")\n",
    "\n",
    "print(f'O fatorial de 0 é {fatorial(0)}')\n",
    "\n",
    "print(f'O fatorial de 10 é {fatorial(10)}')"
   ]
  }
 ],
 "metadata": {
  "kernelspec": {
   "display_name": "base",
   "language": "python",
   "name": "python3"
  },
  "language_info": {
   "codemirror_mode": {
    "name": "ipython",
    "version": 3
   },
   "file_extension": ".py",
   "mimetype": "text/x-python",
   "name": "python",
   "nbconvert_exporter": "python",
   "pygments_lexer": "ipython3",
   "version": "3.11.5"
  }
 },
 "nbformat": 4,
 "nbformat_minor": 2
}
