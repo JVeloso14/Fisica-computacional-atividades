{
 "cells": [
  {
   "cell_type": "code",
   "execution_count": null,
   "metadata": {},
   "outputs": [
    {
     "name": "stdout",
     "output_type": "stream",
     "text": [
      "O fatorial de pi é 7.18808272897603\n"
     ]
    }
   ],
   "source": [
    "import sympy as sp \n",
    "import math\n",
    "\n",
    "#ola\n",
    "\n",
    "x= sp.Symbol('x')\n",
    "t = sp.Symbol('t')\n",
    "\n",
    "\n",
    "def GammaFunc(z):\n",
    "    exp = t**(z) * sp.exp(-t)\n",
    "    integral= sp.integrate(exp, (t, 0 , sp.oo))\n",
    "    return integral\n",
    "\n",
    "#print(f'O fatorial de {z} é {GammaFunc(z)}')\n",
    "\n",
    "print(f'O fatorial de pi é {GammaFunc(math.pi)}')"
   ]
  }
 ],
 "metadata": {
  "kernelspec": {
   "display_name": "fiscomp",
   "language": "python",
   "name": "python3"
  },
  "language_info": {
   "codemirror_mode": {
    "name": "ipython",
    "version": 3
   },
   "file_extension": ".py",
   "mimetype": "text/x-python",
   "name": "python",
   "nbconvert_exporter": "python",
   "pygments_lexer": "ipython3",
   "version": "3.13.2"
  }
 },
 "nbformat": 4,
 "nbformat_minor": 2
}
