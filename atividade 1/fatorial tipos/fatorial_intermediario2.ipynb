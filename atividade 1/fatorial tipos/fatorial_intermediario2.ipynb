{
 "cells": [
  {
   "cell_type": "markdown",
   "metadata": {},
   "source": [
    "# Fatorial - atividade intermediária 1\n",
    "\n",
    "Método de recursão: Impondo que se $x=0$ , então $0! =1$ . Caso contrario, \n",
    "a função chama si própria na forma de fatorial(x-1) até x==0.\n",
    "\n",
    "```Se x=5:```\n",
    "    ```Verifica se 5==0 (falso)```\n",
    "    ```retorna 5 * fatorial(4) ```\n",
    "\n",
    "```Verifica se 4==0```\n",
    "```retorna 4 * fatorial(3)```\n",
    "\n",
    "*\n",
    "*\n",
    "*\n",
    "repetindo o processo até ```'Verifica se 0==0```, ficando com 120.\n",
    "\n",
    "\n"
   ]
  },
  {
   "cell_type": "code",
   "execution_count": null,
   "metadata": {},
   "outputs": [
    {
     "name": "stdout",
     "output_type": "stream",
     "text": [
      "O fatorial de 5 é 120\n",
      "O fatorial de 0 é 1\n"
     ]
    }
   ],
   "source": [
    "def fatorial(x):\n",
    "    \"\"\"\n",
    "    Calcula o fatorial de um número inteiro x de forma recursiva.\n",
    "\n",
    "    Parâmetros:\n",
    "    x (int): O número inteiro para calcular o fatorial.\n",
    "\n",
    "    Retorna:\n",
    "    int: O fatorial de x.\n",
    "    \"\"\"\n",
    "    if x == 0:\n",
    "        return 1\n",
    "    else:\n",
    "        return x * fatorial(x - 1)\n",
    "\n",
    "print(f'O fatorial de 5 é {fatorial(5)}')\n",
    "print(f'O fatorial de 0 é {fatorial(0)}')\n"
   ]
  }
 ],
 "metadata": {
  "kernelspec": {
   "display_name": "base",
   "language": "python",
   "name": "python3"
  },
  "language_info": {
   "codemirror_mode": {
    "name": "ipython",
    "version": 3
   },
   "file_extension": ".py",
   "mimetype": "text/x-python",
   "name": "python",
   "nbconvert_exporter": "python",
   "pygments_lexer": "ipython3",
   "version": "3.11.5"
  }
 },
 "nbformat": 4,
 "nbformat_minor": 2
}
