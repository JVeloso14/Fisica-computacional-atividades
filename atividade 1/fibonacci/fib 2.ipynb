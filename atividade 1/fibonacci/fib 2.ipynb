{
 "cells": [
  {
   "cell_type": "code",
   "execution_count": 4,
   "metadata": {},
   "outputs": [
    {
     "data": {
      "text/plain": [
       "1"
      ]
     },
     "execution_count": 4,
     "metadata": {},
     "output_type": "execute_result"
    }
   ],
   "source": [
    "#jeito razoável: Modelo Recursivo\n",
    "#por recorrencia : psi_n = psi_n-2 + psi_n-1 , com psi_2 = 1 e a =b = 1\n",
    "\n",
    "def fibonacci(i):\n",
    "    if i==1:\n",
    "        return 1\n",
    "    if i==0:\n",
    "        return 0\n",
    "    else:\n",
    "        return fibonacci(i-2) + fibonacci(i-1)\n",
    "\n",
    "fibonacci(1)\n",
    "#1,1,2,3,5,8,13,21,35,55\n"
   ]
  }
 ],
 "metadata": {
  "kernelspec": {
   "display_name": "base",
   "language": "python",
   "name": "python3"
  },
  "language_info": {
   "codemirror_mode": {
    "name": "ipython",
    "version": 3
   },
   "file_extension": ".py",
   "mimetype": "text/x-python",
   "name": "python",
   "nbconvert_exporter": "python",
   "pygments_lexer": "ipython3",
   "version": "3.11.5"
  }
 },
 "nbformat": 4,
 "nbformat_minor": 2
}
