{
 "cells": [
  {
   "cell_type": "markdown",
   "metadata": {},
   "source": [
    "# Fibonacci - atividade avançada\n",
    "\n",
    "Implementando o \"Fibonacci - intermediaria\", é acrescentado nesse codigo o assert para \n",
    "verificar se o n informado pelo usuario é do tipo inteiro. \n",
    "\n",
    "Além disso, tambem foi verificado se é do tipo Booleano, isto é, se do tipo verdadeiro ou falso. \n",
    "\n",
    "Isso foi possivel por meio do ```isinstance``` que recebe dois parametros: a variavel que deseja verificar,\n",
    "e a segunda é o tipo de dado relacionado a variável do primeiro parametro. \n"
   ]
  },
  {
   "cell_type": "code",
   "execution_count": null,
   "metadata": {},
   "outputs": [
    {
     "name": "stdout",
     "output_type": "stream",
     "text": [
      "Os 10 primeiros números da sequencia são [0, 1, 1, 2, 3, 5, 8, 13, 21, 34]\n"
     ]
    }
   ],
   "source": [
    "def fibonacci(n, lista_completa=True):\n",
    "    \"\"\"\n",
    "    Gera a sequência de Fibonacci até o n-ésimo termo ou retorna o n-ésimo termo.\n",
    "\n",
    "    Parâmetros:\n",
    "    n (int): O número de termos da sequência de Fibonacci a serem gerados (deve ser inteiro).\n",
    "    lista_completa (bool): Se True, retorna a lista completa da sequência até o n-ésimo termo.\n",
    "                           Se False, retorna apenas o n-ésimo termo.\n",
    "\n",
    "    Retorna:\n",
    "    list or int: A lista completa da sequência ou o n-ésimo termo.\n",
    "\n",
    "    Levanta:\n",
    "    AssertionError: Se 'n' não for inteiro ou 'lista_completa' não for booleano.\n",
    "    \"\"\"\n",
    "   \n",
    "    assert isinstance(n,int), \"n precisa ser inteiro\"\n",
    "    assert isinstance(lista_completa, bool), \"Lista_completa é do tipo booleano\"\n",
    "\n",
    "    if n==0:\n",
    "        return []\n",
    "    if n==1:\n",
    "        return [0]\n",
    "    \n",
    "    sequencia_fib = [0,1] \n",
    "    for i in range(2,n):\n",
    "        prox_num = sequencia_fib[-1] + sequencia_fib[-2]\n",
    "        sequencia_fib.append(prox_num)\n",
    "    if lista_completa == True:\n",
    "        return sequencia_fib\n",
    "    elif lista_completa== False:\n",
    "        return sequencia_fib[-1] #Localiza o ultimo termo atras do indice -1 (assim como foi feito em prox_num)\n",
    "   \n",
    "    \n",
    "print(f'Os 10 primeiros números da sequencia são {fibonacci(10, True)}') #testando o assert isinstance que verica se é booleano\n",
    "#print(f'Os 10° número da sequencia é {fibonacci(10,False)}')\n"
   ]
  }
 ],
 "metadata": {
  "kernelspec": {
   "display_name": "base",
   "language": "python",
   "name": "python3"
  },
  "language_info": {
   "codemirror_mode": {
    "name": "ipython",
    "version": 3
   },
   "file_extension": ".py",
   "mimetype": "text/x-python",
   "name": "python",
   "nbconvert_exporter": "python",
   "pygments_lexer": "ipython3",
   "version": "3.11.5"
  }
 },
 "nbformat": 4,
 "nbformat_minor": 2
}
