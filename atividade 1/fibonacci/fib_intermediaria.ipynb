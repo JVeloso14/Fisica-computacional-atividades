{
 "cells": [
  {
   "cell_type": "markdown",
   "metadata": {},
   "source": [
    "# Fibonacci - atividade intermediária\n",
    "\n",
    "A lógica é a mesma do \"Fibonacci - atividade mínima\" , porém adicionando um parametro na funcão fibonacci \"lista_completa\":\n",
    "\n",
    "Se```lista_completa == True ``` , a função chama a lista dos n primeiros termos. \n",
    "Mas se ```lista_completa == False ```, ela chama apenas o último termo([-1]) da lista por meio do sequencia_fib[-1].\n"
   ]
  },
  {
   "cell_type": "code",
   "execution_count": 33,
   "metadata": {},
   "outputs": [
    {
     "name": "stdout",
     "output_type": "stream",
     "text": [
      "Os 10 primeiros números da sequência são [0, 1, 1, 2, 3]\n",
      "O 10° número da sequência é 3\n"
     ]
    }
   ],
   "source": [
    "def fibonacci(n, lista_completa):\n",
    "    \"\"\"\n",
    "    Gera a sequência de Fibonacci até o n-ésimo termo.\n",
    "\n",
    "    Parâmetros:\n",
    "    n (int): O número de termos da sequência desejados.\n",
    "    lista_completa (bool, opcional): Se True, retorna toda a sequência até o n-ésimo termo.\n",
    "                                     Se False, retorna apenas o último termo. O padrão é True.\n",
    "\n",
    "    Retorna:\n",
    "    list ou int: Lista dos n primeiros termos se lista_completa=True, ou apenas o n-ésimo termo se False.\n",
    "    \"\"\"\n",
    "    if n == 0:\n",
    "        return []\n",
    "    if n == 1:\n",
    "        return [0]\n",
    "\n",
    "    sequencia_fib = [0, 1]  # Lista dos dois primeiros números\n",
    "\n",
    "    for i in range(2, n):\n",
    "        prox_num = sequencia_fib[-1] + sequencia_fib[-2]\n",
    "        sequencia_fib.append(prox_num)\n",
    "    \n",
    "    if lista_completa == False:\n",
    "        return sequencia_fib[-1]\n",
    "\n",
    "    return sequencia_fib\n",
    "\n",
    "print(f'Os 10 primeiros números da sequência são {fibonacci(5, True)}')\n",
    "print(f'O 10° número da sequência é {fibonacci(5, False)}')\n"
   ]
  }
 ],
 "metadata": {
  "kernelspec": {
   "display_name": "fiscomp",
   "language": "python",
   "name": "python3"
  },
  "language_info": {
   "codemirror_mode": {
    "name": "ipython",
    "version": 3
   },
   "file_extension": ".py",
   "mimetype": "text/x-python",
   "name": "python",
   "nbconvert_exporter": "python",
   "pygments_lexer": "ipython3",
   "version": "3.13.2"
  }
 },
 "nbformat": 4,
 "nbformat_minor": 2
}
