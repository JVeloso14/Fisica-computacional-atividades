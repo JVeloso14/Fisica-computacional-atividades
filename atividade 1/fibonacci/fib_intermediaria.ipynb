{
 "cells": [
  {
   "cell_type": "markdown",
   "metadata": {},
   "source": [
    "# Fibonacci - atividade intermediária\n",
    "\n",
    "A lógica é a mesma do \"Fibonacci - atividade mínima\" , porém adicionando um parametro na funcão fibonacci \"lista_completa\":\n",
    "\n",
    "Se```lista_completa == True ``` , a função chama a lista dos n primeiros termos. \n",
    "Mas se ```lista_completa == False ```, ela chama apenas o último termo([-1]) da lista por meio do sequencia_fib[-1].\n"
   ]
  },
  {
   "cell_type": "code",
   "execution_count": 16,
   "metadata": {},
   "outputs": [
    {
     "name": "stdout",
     "output_type": "stream",
     "text": [
      "Os 10 primeiros números da sequência são [0, 1, 1, 2, 3, 5, 8, 13, 21, 34]\n",
      "O 10° número da sequência é 0\n"
     ]
    }
   ],
   "source": [
    "def fibonacci(n, lista_completa):\n",
    "    \"\"\"\n",
    "    Gera a sequência de Fibonacci até o n-ésimo termo.\n",
    "\n",
    "    Parâmetros:\n",
    "    n (int): O número de termos da sequência desejados.\n",
    "    lista_completa (bool): Se True, retorna toda a sequência até o n-ésimo termo.\n",
    "                           Se False, retorna apenas o último termo.\n",
    "\n",
    "    Retorna:\n",
    "    list ou int: Lista dos n primeiros termos se lista_completa=True, ou apenas o n-ésimo termo se False.\n",
    "    \"\"\"\n",
    "    if lista_completa:\n",
    "        fib = [0, 1]\n",
    "        for i in range(2, n):\n",
    "            fib.append(fib[-1] + fib[-2])\n",
    "        return fib\n",
    "    else:\n",
    "        a, b = 0, 1\n",
    "        for _ in range(2, n):\n",
    "            a, b = b, a + b\n",
    "        return b if n > 1 else a\n",
    "\n",
    "\n",
    "print(f'Os 10 primeiros números da sequência são {fibonacci(10, True)}')\n",
    "print(f'O 10° número da sequência é {fibonacci(1, False)}')"
   ]
  }
 ],
 "metadata": {
  "kernelspec": {
   "display_name": "fiscomp",
   "language": "python",
   "name": "python3"
  },
  "language_info": {
   "codemirror_mode": {
    "name": "ipython",
    "version": 3
   },
   "file_extension": ".py",
   "mimetype": "text/x-python",
   "name": "python",
   "nbconvert_exporter": "python",
   "pygments_lexer": "ipython3",
   "version": "3.13.2"
  }
 },
 "nbformat": 4,
 "nbformat_minor": 2
}
