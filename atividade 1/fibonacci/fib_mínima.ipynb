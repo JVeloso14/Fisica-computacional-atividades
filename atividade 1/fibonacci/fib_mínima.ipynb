{
 "cells": [
  {
   "cell_type": "markdown",
   "metadata": {},
   "source": [
    "# Fibonacci- atividade mínima\n",
    "\n",
    "\n",
    "```1-``` Inicialmente, é estabelecido os dois primeiros termos da lista fibonacci, com o objeitvo de fazer sucessivas somas \n",
    "do último[-1] e penúltimo[-2] termo.\n",
    "\n",
    "```2-```Em seguida, é criado um loop for do segundo termo até o n-ésimo termo considerado pelo usuário.(i in range(2, n)).\n",
    "\n",
    "```3-```O próximo número (prox_num) é a soma do último termo da lista sequencia_fib (incialmente o 1) com o penúltimo \n",
    "termo (o 2).\n",
    "\n",
    "```4-```Após cada soma, o resultado é adicionado por meio do .append(prox_num) a lista sequencia_fib. \n",
    "\n",
    "```5-```Essa laço vai até n termos informado pelo usuario.\n",
    "\n"
   ]
  },
  {
   "cell_type": "code",
   "execution_count": null,
   "metadata": {},
   "outputs": [
    {
     "name": "stdout",
     "output_type": "stream",
     "text": [
      "Os 5 primeiros números da sequencia são [0, 1, 1, 2, 3]\n",
      "Os 20 primeiros números da sequencia são [0, 1, 1, 2, 3, 5, 8, 13, 21, 34, 55, 89, 144, 233, 377, 610, 987, 1597, 2584, 4181]\n"
     ]
    }
   ],
   "source": [
    "def fibonacci(n):\n",
    "\n",
    "    \"\"\"\n",
    "    Gera a sequência de Fibonacci até o n-ésimo termo.\n",
    "\n",
    "    Parâmetros:\n",
    "    n (int): O número de termos da sequência de Fibonacci a serem gerados.\n",
    "\n",
    "    Retorna:\n",
    "    list: A lista contendo os primeiros 'n' termos da sequência de Fibonacci.\n",
    "    \"\"\"\n",
    "    \n",
    "    if n==0:\n",
    "        return []\n",
    "    if n==1:\n",
    "        return [0]\n",
    "    \n",
    "    sequencia_fib = [0,1] #Lista dos dois primeiros números\n",
    "    for i in range(2,n):\n",
    "        prox_num = sequencia_fib[-1] + sequencia_fib[-2]\n",
    "        sequencia_fib.append(prox_num)\n",
    "    return sequencia_fib\n",
    "\n",
    "print(f'Os 5 primeiros números da sequencia são {fibonacci(5)}')\n",
    "print(f'Os 20 primeiros números da sequencia são {fibonacci(20)}')\n",
    "\n"
   ]
  }
 ],
 "metadata": {
  "kernelspec": {
   "display_name": "base",
   "language": "python",
   "name": "python3"
  },
  "language_info": {
   "codemirror_mode": {
    "name": "ipython",
    "version": 3
   },
   "file_extension": ".py",
   "mimetype": "text/x-python",
   "name": "python",
   "nbconvert_exporter": "python",
   "pygments_lexer": "ipython3",
   "version": "3.11.5"
  }
 },
 "nbformat": 4,
 "nbformat_minor": 2
}
