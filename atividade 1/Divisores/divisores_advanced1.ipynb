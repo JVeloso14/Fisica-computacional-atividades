{
 "cells": [
  {
   "cell_type": "markdown",
   "metadata": {},
   "source": [
    "# Divisores - atividade avançada 1\n",
    "\n",
    "Complemento do primeiro código divisores_1, mas agora com o assert de que b precisa ser diferente de 0, caso contrário \n",
    "será um AssertionError.\n",
    "\n"
   ]
  },
  {
   "cell_type": "code",
   "execution_count": 4,
   "metadata": {},
   "outputs": [
    {
     "name": "stdout",
     "output_type": "stream",
     "text": [
      "True\n",
      "False\n"
     ]
    },
    {
     "ename": "AssertionError",
     "evalue": "b precisa ser diferente de zero",
     "output_type": "error",
     "traceback": [
      "\u001b[1;31m---------------------------------------------------------------------------\u001b[0m",
      "\u001b[1;31mAssertionError\u001b[0m                            Traceback (most recent call last)",
      "Cell \u001b[1;32mIn[4], line 21\u001b[0m\n\u001b[0;32m     19\u001b[0m \u001b[38;5;28mprint\u001b[39m(is_divisor(\u001b[38;5;241m10\u001b[39m, \u001b[38;5;241m2\u001b[39m))  \u001b[38;5;66;03m# True\u001b[39;00m\n\u001b[0;32m     20\u001b[0m \u001b[38;5;28mprint\u001b[39m(is_divisor(\u001b[38;5;241m10\u001b[39m, \u001b[38;5;241m3\u001b[39m))  \u001b[38;5;66;03m# False   \u001b[39;00m\n\u001b[1;32m---> 21\u001b[0m \u001b[38;5;28mprint\u001b[39m(is_divisor(\u001b[38;5;241m10\u001b[39m, \u001b[38;5;241m0\u001b[39m))\n",
      "Cell \u001b[1;32mIn[4], line 15\u001b[0m, in \u001b[0;36mis_divisor\u001b[1;34m(a, b)\u001b[0m\n\u001b[0;32m      1\u001b[0m \u001b[38;5;28;01mdef\u001b[39;00m \u001b[38;5;21mis_divisor\u001b[39m(a, b):\n\u001b[0;32m      2\u001b[0m \u001b[38;5;250m    \u001b[39m\u001b[38;5;124;03m\"\"\"\u001b[39;00m\n\u001b[0;32m      3\u001b[0m \u001b[38;5;124;03m    Verifica se 'a' é divisível por 'b'.\u001b[39;00m\n\u001b[0;32m      4\u001b[0m \n\u001b[1;32m   (...)\u001b[0m\n\u001b[0;32m     13\u001b[0m \u001b[38;5;124;03m    AssertionError: Se 'b' for zero.\u001b[39;00m\n\u001b[0;32m     14\u001b[0m \u001b[38;5;124;03m    \"\"\"\u001b[39;00m\n\u001b[1;32m---> 15\u001b[0m     \u001b[38;5;28;01massert\u001b[39;00m b \u001b[38;5;241m!=\u001b[39m \u001b[38;5;241m0\u001b[39m, \u001b[38;5;124m'\u001b[39m\u001b[38;5;124mb precisa ser diferente de zero\u001b[39m\u001b[38;5;124m'\u001b[39m\n\u001b[0;32m     17\u001b[0m     \u001b[38;5;28;01mreturn\u001b[39;00m a \u001b[38;5;241m%\u001b[39m b \u001b[38;5;241m==\u001b[39m \u001b[38;5;241m0\u001b[39m\n",
      "\u001b[1;31mAssertionError\u001b[0m: b precisa ser diferente de zero"
     ]
    }
   ],
   "source": [
    "def is_divisor(a, b):\n",
    "    \"\"\"\n",
    "    Verifica se 'a' é divisível por 'b'.\n",
    "\n",
    "    Parâmetros:\n",
    "    a (int): O número a ser verificado.\n",
    "    b (int): O divisor (deve ser diferente de zero).\n",
    "\n",
    "    Retorna:\n",
    "    bool: True se 'a' for divisível por 'b', False caso contrário.\n",
    "\n",
    "    Levanta:\n",
    "    AssertionError: Se 'b' for zero.\n",
    "    \"\"\"\n",
    "    assert b != 0, 'b precisa ser diferente de zero'\n",
    "\n",
    "    return a % b == 0\n",
    "\n",
    "print(is_divisor(10, 2))  # True\n",
    "print(is_divisor(10, 3))  # False   \n",
    "print(is_divisor(10, 0))  # AssertionError: b precisa ser diferente de zero\n",
    "\n",
    "\n"
   ]
  }
 ],
 "metadata": {
  "kernelspec": {
   "display_name": "fiscomp",
   "language": "python",
   "name": "python3"
  },
  "language_info": {
   "codemirror_mode": {
    "name": "ipython",
    "version": 3
   },
   "file_extension": ".py",
   "mimetype": "text/x-python",
   "name": "python",
   "nbconvert_exporter": "python",
   "pygments_lexer": "ipython3",
   "version": "3.13.2"
  }
 },
 "nbformat": 4,
 "nbformat_minor": 2
}
