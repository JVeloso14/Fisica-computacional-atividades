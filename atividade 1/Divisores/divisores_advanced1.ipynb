{
 "cells": [
  {
   "cell_type": "markdown",
   "metadata": {},
   "source": [
    "# Divisores - atividade avançada 1\n",
    "\n",
    "Complemento do primeiro código divisores_1, mas agora com o assert de que b precisa ser diferente de 0, caso contrário \n",
    "será um AssertionError.\n",
    "\n"
   ]
  },
  {
   "cell_type": "code",
   "execution_count": null,
   "metadata": {},
   "outputs": [
    {
     "ename": "AssertionError",
     "evalue": "b precisa ser diferente de zero",
     "output_type": "error",
     "traceback": [
      "\u001b[1;31m---------------------------------------------------------------------------\u001b[0m",
      "\u001b[1;31mAssertionError\u001b[0m                            Traceback (most recent call last)",
      "Cell \u001b[1;32mIn[1], line 11\u001b[0m\n\u001b[0;32m      8\u001b[0m         \u001b[38;5;28;01mreturn\u001b[39;00m \u001b[38;5;28;01mFalse\u001b[39;00m\n\u001b[0;32m     10\u001b[0m \u001b[38;5;66;03m#teste1 = is_divisor(4,3)\u001b[39;00m\n\u001b[1;32m---> 11\u001b[0m teste2\u001b[38;5;241m=\u001b[39m is_divisor(\u001b[38;5;241m10\u001b[39m,\u001b[38;5;241m0\u001b[39m)\n\u001b[0;32m     13\u001b[0m \u001b[38;5;66;03m#print(teste1)\u001b[39;00m\n\u001b[0;32m     14\u001b[0m \u001b[38;5;28mprint\u001b[39m(teste2)\n",
      "Cell \u001b[1;32mIn[1], line 3\u001b[0m, in \u001b[0;36mis_divisor\u001b[1;34m(a, b)\u001b[0m\n\u001b[0;32m      1\u001b[0m \u001b[38;5;28;01mdef\u001b[39;00m \u001b[38;5;21mis_divisor\u001b[39m(a,b):\n\u001b[1;32m----> 3\u001b[0m     \u001b[38;5;28;01massert\u001b[39;00m b\u001b[38;5;241m!=\u001b[39m\u001b[38;5;241m0\u001b[39m, \u001b[38;5;124m'\u001b[39m\u001b[38;5;124mb precisa ser diferente de zero\u001b[39m\u001b[38;5;124m'\u001b[39m\n\u001b[0;32m      5\u001b[0m     \u001b[38;5;28;01mif\u001b[39;00m a \u001b[38;5;241m%\u001b[39m b \u001b[38;5;241m==\u001b[39m \u001b[38;5;241m0\u001b[39m: \u001b[38;5;66;03m# Se o resto da divisão for 0 ,a é divisel por b. Caso contrario, é faslo\u001b[39;00m\n\u001b[0;32m      6\u001b[0m         \u001b[38;5;28;01mreturn\u001b[39;00m \u001b[38;5;28;01mTrue\u001b[39;00m\n",
      "\u001b[1;31mAssertionError\u001b[0m: b precisa ser diferente de zero"
     ]
    }
   ],
   "source": [
    "def is_divisor(a, b):\n",
    "    \"\"\"\n",
    "    Verifica se 'a' é divisível por 'b'.\n",
    "\n",
    "    Parâmetros:\n",
    "    a (int): O número a ser verificado.\n",
    "    b (int): O divisor (deve ser diferente de zero).\n",
    "\n",
    "    Retorna:\n",
    "    bool: True se 'a' for divisível por 'b', False caso contrário.\n",
    "\n",
    "    Levanta:\n",
    "    AssertionError: Se 'b' for zero.\n",
    "    \"\"\"\n",
    "    assert b != 0, 'b precisa ser diferente de zero'\n",
    "\n",
    "    if a % b == 0:\n",
    "        return True\n",
    "    else:\n",
    "        return False\n",
    "\n",
    "#teste1 = is_divisor(4,2)\n",
    "teste2= is_divisor(10,0)\n",
    "\n",
    "#print(teste1)\n",
    "print(teste2)"
   ]
  }
 ],
 "metadata": {
  "kernelspec": {
   "display_name": "base",
   "language": "python",
   "name": "python3"
  },
  "language_info": {
   "codemirror_mode": {
    "name": "ipython",
    "version": 3
   },
   "file_extension": ".py",
   "mimetype": "text/x-python",
   "name": "python",
   "nbconvert_exporter": "python",
   "pygments_lexer": "ipython3",
   "version": "3.11.5"
  }
 },
 "nbformat": 4,
 "nbformat_minor": 2
}
