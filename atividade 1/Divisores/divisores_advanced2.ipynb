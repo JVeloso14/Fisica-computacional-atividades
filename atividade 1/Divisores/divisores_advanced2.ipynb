{
 "cells": [
  {
   "cell_type": "markdown",
   "metadata": {},
   "source": [
    "# Divisores - atividade avançada 2\n",
    "\n",
    "\n",
    "Complementando o código \"divisores_advanced2\". Nesse foi utilizado o ```try``` e o ```except``` para\n",
    "o tratamento da exceção de quando b é 0(sem utilizar ```return True e False```).\n",
    "Nesse caso, o código primeiro verifica se os valores informados pelo usuario são divisores(se sim, manda uma mensagem que é divisivel). \n",
    "Mas com b= 0 (ou a=0 e b=0),  tem-se o caso de ZeroDivisionError(retornando none). \n",
    "\n"
   ]
  },
  {
   "cell_type": "code",
   "execution_count": null,
   "metadata": {},
   "outputs": [],
   "source": [
    "\n",
    "def is_divisor(a,b):\n",
    "\n",
    "    \"\"\"\n",
    "    Verifica se 'a' é divisível por 'b' com tratamento de exceção para divisão por zero.\n",
    "\n",
    "    Parâmetros:\n",
    "    a (int): O número a ser verificado.\n",
    "    b (int): O divisor.\n",
    "\n",
    "    Retorna:\n",
    "    None: Se 'b' for zero, retorna None e imprime uma mensagem de erro.\n",
    "    \"\"\"\n",
    "\n",
    "    try:\n",
    "        return (a% b == 0 )\n",
    "    except ZeroDivisionError:\n",
    "        print(\"Erro: não é possível dividir por 0\")\n",
    "        return None\n",
    "    \n",
    "teste1 = is_divisor(4,2)\n",
    "#teste2 = is_divisor(4,0)\n",
    "\n",
    "#print(teste1)\n",
    "#print(teste2)"
   ]
  }
 ],
 "metadata": {
  "kernelspec": {
   "display_name": "base",
   "language": "python",
   "name": "python3"
  },
  "language_info": {
   "codemirror_mode": {
    "name": "ipython",
    "version": 3
   },
   "file_extension": ".py",
   "mimetype": "text/x-python",
   "name": "python",
   "nbconvert_exporter": "python",
   "pygments_lexer": "ipython3",
   "version": "3.11.5"
  }
 },
 "nbformat": 4,
 "nbformat_minor": 2
}
