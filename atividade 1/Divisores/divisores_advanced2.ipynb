{
 "cells": [
  {
   "cell_type": "markdown",
   "metadata": {},
   "source": [
    "# Divisores - atividade avançada 2\n",
    "\n",
    "\n",
    "Complementando o código \"divisores_advanced2\". Nesse foi utilizado o ```try``` e o ```except``` para\n",
    "o tratamento da exceção de quando b é 0(sem utilizar ```return True e False```).\n",
    "Nesse caso, o código primeiro verifica se os valores informados pelo usuario são divisores(se sim, manda uma mensagem que é divisivel). \n",
    "Mas com b= 0 (ou a=0 e b=0),  tem-se o caso de ZeroDivisionError(retornando none). \n",
    "\n"
   ]
  },
  {
   "cell_type": "code",
   "execution_count": 14,
   "metadata": {},
   "outputs": [
    {
     "name": "stdout",
     "output_type": "stream",
     "text": [
      "True\n",
      "False\n"
     ]
    },
    {
     "ename": "ZeroDivisionError",
     "evalue": "Divisão por zero não é permitida.",
     "output_type": "error",
     "traceback": [
      "\u001b[1;31m---------------------------------------------------------------------------\u001b[0m",
      "\u001b[1;31mZeroDivisionError\u001b[0m                         Traceback (most recent call last)",
      "Cell \u001b[1;32mIn[14], line 15\u001b[0m, in \u001b[0;36mis_divisor\u001b[1;34m(a, b)\u001b[0m\n\u001b[0;32m     14\u001b[0m \u001b[38;5;28;01mtry\u001b[39;00m:\n\u001b[1;32m---> 15\u001b[0m     \u001b[38;5;28;01mreturn\u001b[39;00m a \u001b[38;5;241m%\u001b[39m b \u001b[38;5;241m==\u001b[39m \u001b[38;5;241m0\u001b[39m \n\u001b[0;32m     16\u001b[0m \u001b[38;5;28;01mexcept\u001b[39;00m:\n",
      "\u001b[1;31mZeroDivisionError\u001b[0m: integer modulo by zero",
      "\nDuring handling of the above exception, another exception occurred:\n",
      "\u001b[1;31mZeroDivisionError\u001b[0m                         Traceback (most recent call last)",
      "Cell \u001b[1;32mIn[14], line 24\u001b[0m\n\u001b[0;32m     22\u001b[0m \u001b[38;5;28mprint\u001b[39m(is_divisor(\u001b[38;5;241m10\u001b[39m, \u001b[38;5;241m2\u001b[39m))  \n\u001b[0;32m     23\u001b[0m \u001b[38;5;28mprint\u001b[39m(is_divisor(\u001b[38;5;241m10\u001b[39m, \u001b[38;5;241m3\u001b[39m))  \n\u001b[1;32m---> 24\u001b[0m \u001b[38;5;28mprint\u001b[39m(is_divisor(\u001b[38;5;241m10\u001b[39m, \u001b[38;5;241m0\u001b[39m))\n",
      "Cell \u001b[1;32mIn[14], line 17\u001b[0m, in \u001b[0;36mis_divisor\u001b[1;34m(a, b)\u001b[0m\n\u001b[0;32m     15\u001b[0m     \u001b[38;5;28;01mreturn\u001b[39;00m a \u001b[38;5;241m%\u001b[39m b \u001b[38;5;241m==\u001b[39m \u001b[38;5;241m0\u001b[39m \n\u001b[0;32m     16\u001b[0m \u001b[38;5;28;01mexcept\u001b[39;00m:\n\u001b[1;32m---> 17\u001b[0m     \u001b[38;5;28;01mraise\u001b[39;00m \u001b[38;5;167;01mZeroDivisionError\u001b[39;00m(\u001b[38;5;124m\"\u001b[39m\u001b[38;5;124mDivisão por zero não é permitida.\u001b[39m\u001b[38;5;124m\"\u001b[39m) \n\u001b[0;32m     19\u001b[0m \u001b[38;5;28;01mreturn\u001b[39;00m \u001b[38;5;28;01mNone\u001b[39;00m\n",
      "\u001b[1;31mZeroDivisionError\u001b[0m: Divisão por zero não é permitida."
     ]
    }
   ],
   "source": [
    "\n",
    "def is_divisor(a,b):\n",
    "\n",
    "    \"\"\"\n",
    "    Verifica se 'a' é divisível por 'b' com tratamento de exceção para divisão por zero.\n",
    "\n",
    "    Parâmetros:\n",
    "    a (int): O número a ser verificado.\n",
    "    b (int): O divisor.\n",
    "\n",
    "    Retorna:\n",
    "    None: Se 'b' for zero, retorna None e imprime uma mensagem de erro.\n",
    "    \"\"\"\n",
    "\n",
    "    try:\n",
    "        return a % b == 0 \n",
    "    except:\n",
    "        raise ZeroDivisionError(\"Divisão por zero não é permitida.\") \n",
    "    \n",
    "    return None  \n",
    "    \n",
    "\n",
    "print(is_divisor(10, 2))  \n",
    "print(is_divisor(10, 3))  \n",
    "print(is_divisor(10, 0))  \n",
    "\n"
   ]
  }
 ],
 "metadata": {
  "kernelspec": {
   "display_name": "fiscomp",
   "language": "python",
   "name": "python3"
  },
  "language_info": {
   "codemirror_mode": {
    "name": "ipython",
    "version": 3
   },
   "file_extension": ".py",
   "mimetype": "text/x-python",
   "name": "python",
   "nbconvert_exporter": "python",
   "pygments_lexer": "ipython3",
   "version": "3.13.2"
  }
 },
 "nbformat": 4,
 "nbformat_minor": 2
}
