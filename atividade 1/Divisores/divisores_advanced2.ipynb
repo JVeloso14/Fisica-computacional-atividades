{
 "cells": [
  {
   "cell_type": "markdown",
   "metadata": {},
   "source": [
    "# Divisores - atividade avançada 2\n",
    "\n",
    "\n",
    "Complementando o código \"divisores_advanced2\". Nesse foi utilizado o ```try``` e o ```except``` para\n",
    "o tratamento da exceção de quando b é 0(sem utilizar ```return True e False```).\n",
    "Nesse caso, o código primeiro verifica se os valores informados pelo usuario são divisores(se sim, manda uma mensagem que é divisivel). \n",
    "Mas com b= 0 (ou a=0 e b=0),  tem-se o caso de ZeroDivisionError(retornando none). \n",
    "\n"
   ]
  },
  {
   "cell_type": "code",
   "execution_count": 4,
   "metadata": {},
   "outputs": [
    {
     "name": "stdout",
     "output_type": "stream",
     "text": [
      "True\n",
      "False\n",
      "Divisão por zero não é permitida.\n",
      "None\n"
     ]
    }
   ],
   "source": [
    "def is_divisor(a, b):\n",
    "    \"\"\"\n",
    "    Verifica se 'a' é divisível por 'b' com tratamento de exceção para divisão por zero.\n",
    "\n",
    "    Parâmetros:\n",
    "    a (int): O número a ser verificado.\n",
    "    b (int): O divisor.\n",
    "\n",
    "    Retorna:\n",
    "    bool: True se 'a' for divisível por 'b', False caso contrário.\n",
    "    None: Se 'b' for zero, retorna None e imprime uma mensagem de erro.\n",
    "    \"\"\"\n",
    "    \n",
    "    try:\n",
    "        return a % b == 0\n",
    "    except ZeroDivisionError:\n",
    "        print(\"Divisão por zero não é permitida.\")\n",
    "        return None\n",
    "\n",
    "print(is_divisor(10, 2))  \n",
    "print(is_divisor(10, 3))  \n",
    "print(is_divisor(10, 0))"
   ]
  }
 ],
 "metadata": {
  "kernelspec": {
   "display_name": "fiscomp",
   "language": "python",
   "name": "python3"
  },
  "language_info": {
   "codemirror_mode": {
    "name": "ipython",
    "version": 3
   },
   "file_extension": ".py",
   "mimetype": "text/x-python",
   "name": "python",
   "nbconvert_exporter": "python",
   "pygments_lexer": "ipython3",
   "version": "3.13.2"
  }
 },
 "nbformat": 4,
 "nbformat_minor": 2
}
