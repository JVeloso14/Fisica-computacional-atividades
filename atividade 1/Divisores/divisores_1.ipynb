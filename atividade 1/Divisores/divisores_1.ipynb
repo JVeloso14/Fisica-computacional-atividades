{
 "cells": [
  {
   "cell_type": "markdown",
   "metadata": {},
   "source": [
    "# Divisores - atividade mínima\n",
    "\n",
    "Se o resto da divisão for 0 (a%b == 0 ),b é divisel por a (return true).  Caso contrario, é falso (return False).\n",
    "\n",
    "Obs: O % é utilizado para calcular o resto de uma divisão . Nesse caso, se for zero, então , por definição, um número é divisível pelo outro.\n"
   ]
  },
  {
   "cell_type": "code",
   "execution_count": 67,
   "metadata": {},
   "outputs": [
    {
     "name": "stdout",
     "output_type": "stream",
     "text": [
      "True\n",
      "False\n"
     ]
    }
   ],
   "source": [
    "def is_divisor(a,b):\n",
    "    \"\"\"\n",
    "    Esta função verifica se o número a é divisor do número b.\n",
    "    :param a: Número que será verificado se é divisor\n",
    "    :param b: Número que será dividido\n",
    "    :return: True se a for divisor de b, False caso contrário\n",
    "    \"\"\"\n",
    "    return  a % b == 0\n",
    "\n",
    "teste1 = is_divisor(4,2)\n",
    "teste2= is_divisor(6,4)\n",
    "\n",
    "print(teste1)\n",
    "print(teste2)"
   ]
  }
 ],
 "metadata": {
  "kernelspec": {
   "display_name": "fiscomp",
   "language": "python",
   "name": "python3"
  },
  "language_info": {
   "codemirror_mode": {
    "name": "ipython",
    "version": 3
   },
   "file_extension": ".py",
   "mimetype": "text/x-python",
   "name": "python",
   "nbconvert_exporter": "python",
   "pygments_lexer": "ipython3",
   "version": "3.13.2"
  }
 },
 "nbformat": 4,
 "nbformat_minor": 2
}
