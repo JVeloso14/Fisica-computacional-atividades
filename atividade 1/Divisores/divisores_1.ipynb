{
 "cells": [
  {
   "cell_type": "markdown",
   "metadata": {},
   "source": [
    "# Divisores - atividade mínima\n",
    "\n",
    "Se o resto da divisão for 0 (a%b == 0 ),a é divisel por b (return true).  Caso contrario(else), é falso (return False)\n",
    "\n",
    "Obs: O % é utilizado para calcular o resto de uma divisão . Nesse caso, se for zero, então , por definição, um número é divisível pelo outro.\n"
   ]
  },
  {
   "cell_type": "code",
   "execution_count": null,
   "metadata": {},
   "outputs": [
    {
     "name": "stdout",
     "output_type": "stream",
     "text": [
      "False\n",
      "True\n"
     ]
    }
   ],
   "source": [
    "def is_divisor(a,b):\n",
    "    \"\"\"\n",
    "    Verifica se 'a' é divisível por 'b'.\n",
    "\n",
    "    Parâmetros:\n",
    "    a (int): O número a ser verificado.\n",
    "    b (int): O divisor.\n",
    "\n",
    "    Retorna:\n",
    "    bool: True se 'a' for divisível por 'b', False caso contrário.\n",
    "    \"\"\"\n",
    "    if a % b == 0: \n",
    "        return True\n",
    "    else:\n",
    "        return False\n",
    "\n",
    "teste1 = is_divisor(4,3)\n",
    "teste2= is_divisor(10,2)\n",
    "\n",
    "print(teste1)\n",
    "print(teste2)"
   ]
  }
 ],
 "metadata": {
  "kernelspec": {
   "display_name": "base",
   "language": "python",
   "name": "python3"
  },
  "language_info": {
   "codemirror_mode": {
    "name": "ipython",
    "version": 3
   },
   "file_extension": ".py",
   "mimetype": "text/x-python",
   "name": "python",
   "nbconvert_exporter": "python",
   "pygments_lexer": "ipython3",
   "version": "3.11.5"
  }
 },
 "nbformat": 4,
 "nbformat_minor": 2
}
