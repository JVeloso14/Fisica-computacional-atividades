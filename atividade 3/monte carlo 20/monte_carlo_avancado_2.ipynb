{
 "cells": [
  {
   "cell_type": "markdown",
   "metadata": {},
   "source": [
    "# Simulação Monte Carlo - atividade avançada sem utilizar loops e ifs\n",
    "\n",
    "A ideia central deste método é utilizar a função ```np.random.uniform``` para gerar pontos de forma vetorizada, substituindo loops manuais. A função recebe um parametro adicional(além do invervalo) : o número de elementos (self.pontos). No caso, ```np.random.uniform(0, 1, self.pontos)``` gera dois arrays , um para coordenadas $x$ e outro para $y$, cada um com ```self.pontos``` valores entre 0 e 1.\n",
    "\n",
    "Em vez de calcular a distância real de cada ponto à origem, calcula-se a \\textbf{distância quadrada} $x^2 + y^2$ para todos os pontos simultaneamente. A condição $x^2 + y^2 \\leq 1$ cria um array booleano, onde ```True``` indica pontos dentro do círculo de raio 1. A função ```np.sum``` converte implicitamente ```True``` em 1 e ```False``` em 0, somando automaticamente os pontos válidos.\n",
    "\n",
    "Na versão tradicional (com loops), cada ponto seria verificado individualmente com uma estrutura condicional ```if```, incrementando um contador manualmente(tornando o codigo bem mais lento)."
   ]
  },
  {
   "cell_type": "code",
   "execution_count": null,
   "metadata": {},
   "outputs": [
    {
     "name": "stdout",
     "output_type": "stream",
     "text": [
      "50.4 ns ± 8.07 ns per loop (mean ± std. dev. of 7 runs, 10,000,000 loops each)\n",
      "56.6 ns ± 4.89 ns per loop (mean ± std. dev. of 7 runs, 10,000,000 loops each)\n"
     ]
    }
   ],
   "source": [
    "import numpy as np\n",
    "from numpy import random\n",
    "import matplotlib.pyplot as plt\n",
    "\n",
    "class CalcPi():\n",
    "    def __init__(self, pontos):\n",
    "        self.pontos = pontos\n",
    "\n",
    "    def monte_Carlo_pi_devagar(self):\n",
    "        pontos_internos = 0\n",
    "        for i in range(self.pontos):\n",
    "            x= random.uniform(0,1)\n",
    "            y= random.uniform(0,1)\n",
    "            if x**2 + y**2 <=1:\n",
    "                pontos_internos += 1\n",
    "        estimativa  = 4 * pontos_internos/ self.pontos\n",
    "        return estimativa\n",
    "\n",
    "\n",
    "    def monte_Carlo_pi_rapido(self):\n",
    "        x = random.uniform(0,1, self.pontos)\n",
    "        y= random.uniform(0,1, self.pontos)\n",
    "        distancia_origem = np.square(x) + np.square(y)\n",
    "        self.pontos_internos = np.sum(distancia_origem <= 1)  \n",
    "        estimativa_pi  = 4 * self.pontos_internos/ self.pontos\n",
    "        return estimativa_pi\n",
    "\n",
    "if __name__ == '__main__':\n",
    "    simulacao1 =CalcPi(1000000)\n",
    "    resultado1 = simulacao1.monte_Carlo_pi_rapido()\n",
    "    resultado2 = simulacao1.monte_Carlo_pi_devagar()\n",
    "   \n",
    "    %timeit resultado1 #Método rápido\n",
    "    %timeit resultado2 #Método devagar\n",
    "   \n",
    "    \n",
    "    \n",
    "    "
   ]
  }
 ],
 "metadata": {
  "kernelspec": {
   "display_name": "fiscomp",
   "language": "python",
   "name": "python3"
  },
  "language_info": {
   "codemirror_mode": {
    "name": "ipython",
    "version": 3
   },
   "file_extension": ".py",
   "mimetype": "text/x-python",
   "name": "python",
   "nbconvert_exporter": "python",
   "pygments_lexer": "ipython3",
   "version": "3.13.2"
  }
 },
 "nbformat": 4,
 "nbformat_minor": 2
}
