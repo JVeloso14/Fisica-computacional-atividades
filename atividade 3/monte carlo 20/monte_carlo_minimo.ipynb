{
 "cells": [
  {
   "cell_type": "markdown",
   "metadata": {},
   "source": [
    "# Atividade mínima 1 - Programa que calcula o $\\pi$ via Monte Carlo\n",
    "\n",
    "O objetivo é sortear N pares (x,y) contidos dentro da curva de 1/4 de circuferencia  e assim calcular $\\pi$. Para isso, foi criada a função calc_pi, com parametro o número de pontos que serão sorteados, que inicia com 0 pontos internos. Em seguida, foi utilizado um loop considerando pontos aleatorio entre 0 e 1 (por meio do ```rng.uniform```), cada ponto definido pelas coordenadas (x,y). Dessa forma, se os pontos os estiverem na circunferencia de raio 1, então será adicionada para a variável ```pontos_internos```. Nesse caso, para um quadrado de lado 1 a sua área é igual A1 = $1$ u.m, enquanto um quarto da circunferencia tem área $A_2 = \\pi / 4$. Dessa maneira, a probabilidade de encontrarmos um ponto em um quarto de circunferencia é de $$ P = A_2 / A_1 =  \\pi / 4 $$. Assim, o $\\pi$ é dado por $$\\pi = 4 * N_{dentro}/ N_{total},$$ onde $N_{dentro}$ são os pontos internos a um quarto de circunferencia. Nesse codigo, $\\pi$ é representado pela variável estimativa, que segue a fórmula acima. "
   ]
  },
  {
   "cell_type": "code",
   "execution_count": null,
   "metadata": {},
   "outputs": [
    {
     "data": {
      "text/plain": [
       "3.141292"
      ]
     },
     "execution_count": 6,
     "metadata": {},
     "output_type": "execute_result"
    }
   ],
   "source": [
    "\n",
    "import numpy as np\n",
    "from numpy import random\n",
    "\n",
    "rng = np.random.default_rng()\n",
    "def calc_pi(pontos):\n",
    "    pontos_internos = 0\n",
    "    for i in range(pontos):\n",
    "        x= rng.uniform(0,1)\n",
    "        y= rng.uniform(0,1)\n",
    "        if x**2 + y**2 <=1:\n",
    "            pontos_internos += 1\n",
    "    estimativa  = 4 * pontos_internos/ pontos\n",
    "    return estimativa\n",
    "\n",
    "calc_pi(1000000)\n",
    "\n",
    "\n",
    "\n",
    "\n",
    "\n",
    "\n",
    "\n",
    "\n"
   ]
  }
 ],
 "metadata": {
  "kernelspec": {
   "display_name": "fiscomp",
   "language": "python",
   "name": "python3"
  },
  "language_info": {
   "codemirror_mode": {
    "name": "ipython",
    "version": 3
   },
   "file_extension": ".py",
   "mimetype": "text/x-python",
   "name": "python",
   "nbconvert_exporter": "python",
   "pygments_lexer": "ipython3",
   "version": "3.13.2"
  }
 },
 "nbformat": 4,
 "nbformat_minor": 2
}
