{
 "cells": [
  {
   "cell_type": "markdown",
   "metadata": {},
   "source": [
    "#Atividade mnínima 1 - Programa que calcula o $\\pi$\n",
    "\n",
    "O objetivo é sortear N pares (x,y) contidos dentro da curva de 1/4 de circuferencia  e assim calcular $\\pi$"
   ]
  },
  {
   "cell_type": "code",
   "execution_count": 6,
   "metadata": {},
   "outputs": [
    {
     "data": {
      "text/plain": [
       "3.141292"
      ]
     },
     "execution_count": 6,
     "metadata": {},
     "output_type": "execute_result"
    }
   ],
   "source": [
    "\n",
    "import numpy as np\n",
    "from numpy import random\n",
    "\n",
    "rng = np.random.default_rng()\n",
    "def calc_pi(pontos):\n",
    "    pontos_internos = 0\n",
    "    for i in range(pontos):\n",
    "        x= rng.uniform(-1,1)\n",
    "        y= rng.uniform(-1,1)\n",
    "        if x**2 + y**2 <=1:\n",
    "            pontos_internos += 1\n",
    "    estimativa  = 4 * pontos_internos/ pontos\n",
    "    return estimativa\n",
    "\n",
    "calc_pi(1000000)\n",
    "\n",
    "\n",
    "\n",
    "\n",
    "\n",
    "\n",
    "\n",
    "\n"
   ]
  }
 ],
 "metadata": {
  "kernelspec": {
   "display_name": "fiscomp",
   "language": "python",
   "name": "python3"
  },
  "language_info": {
   "codemirror_mode": {
    "name": "ipython",
    "version": 3
   },
   "file_extension": ".py",
   "mimetype": "text/x-python",
   "name": "python",
   "nbconvert_exporter": "python",
   "pygments_lexer": "ipython3",
   "version": "3.13.2"
  }
 },
 "nbformat": 4,
 "nbformat_minor": 2
}
