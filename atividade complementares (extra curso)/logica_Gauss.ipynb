{
 "cells": [
  {
   "cell_type": "code",
   "execution_count": 7,
   "metadata": {},
   "outputs": [],
   "source": [
    "#Objetivo: ilustrar o conhecimento de que loops tornam o código lento, assim como visto na atividade de monte carlo etc\n",
    "#Programando o somatorio de 1 a 100, a partir da logica de de somar o primeiro com o ultimo, o segundo com o penultimo ,..., 50x. Atividade complementar\n",
    "import numpy as np\n",
    "\n",
    "\n",
    "def soma_1():\n",
    "    lista = []\n",
    "    for i in range(1, 101):\n",
    "        lista.append(i)\n",
    "    tamanho = len(lista)//2\n",
    "    soma = 0\n",
    "    for j in range(0, tamanho):\n",
    "        soma += lista[j] + lista[-1 -j] \n",
    "    return soma\n",
    "    \n",
    "\n",
    "def soma_2():\n",
    "    lista2 = np.array(range(1,101))\n",
    "    tamanho =  len(lista2)//2\n",
    "    soma2 = 0\n",
    "    for j in range(0, tamanho):\n",
    "        soma2 += lista2[j] + lista2[-1 -j] \n",
    "    return soma2\n",
    "\n",
    "\n",
    "def soma_3():\n",
    "    soma3 = np.sum(np.arange(1,1010000))\n",
    "    return soma3\n",
    "\n",
    "\n",
    "def soma_4():\n",
    "    soma_4 = 0 \n",
    "    for i in range(1,1010000):\n",
    "        soma_4 += i\n",
    "    return soma_4\n",
    "\n",
    "    "
   ]
  },
  {
   "cell_type": "code",
   "execution_count": 41,
   "metadata": {},
   "outputs": [
    {
     "name": "stdout",
     "output_type": "stream",
     "text": [
      "26.2 μs ± 4.84 μs per loop (mean ± std. dev. of 7 runs, 10,000 loops each)\n"
     ]
    }
   ],
   "source": [
    "%timeit soma_1()"
   ]
  },
  {
   "cell_type": "code",
   "execution_count": 42,
   "metadata": {},
   "outputs": [
    {
     "name": "stdout",
     "output_type": "stream",
     "text": [
      "56.7 μs ± 15.8 μs per loop (mean ± std. dev. of 7 runs, 10,000 loops each)\n"
     ]
    }
   ],
   "source": [
    "%timeit soma_2()"
   ]
  },
  {
   "cell_type": "code",
   "execution_count": 8,
   "metadata": {},
   "outputs": [
    {
     "name": "stdout",
     "output_type": "stream",
     "text": [
      "8.15 ms ± 728 μs per loop (mean ± std. dev. of 7 runs, 100 loops each)\n"
     ]
    }
   ],
   "source": [
    "%timeit soma_3()"
   ]
  },
  {
   "cell_type": "code",
   "execution_count": 9,
   "metadata": {},
   "outputs": [
    {
     "name": "stdout",
     "output_type": "stream",
     "text": [
      "178 ms ± 5.9 ms per loop (mean ± std. dev. of 7 runs, 10 loops each)\n"
     ]
    }
   ],
   "source": [
    "%timeit soma_4()"
   ]
  },
  {
   "cell_type": "code",
   "execution_count": null,
   "metadata": {},
   "outputs": [],
   "source": []
  }
 ],
 "metadata": {
  "kernelspec": {
   "display_name": "fiscomp",
   "language": "python",
   "name": "python3"
  },
  "language_info": {
   "codemirror_mode": {
    "name": "ipython",
    "version": 3
   },
   "file_extension": ".py",
   "mimetype": "text/x-python",
   "name": "python",
   "nbconvert_exporter": "python",
   "pygments_lexer": "ipython3",
   "version": "3.13.2"
  }
 },
 "nbformat": 4,
 "nbformat_minor": 2
}
