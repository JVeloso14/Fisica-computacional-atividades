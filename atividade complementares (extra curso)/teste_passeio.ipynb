{
 "cells": [
  {
   "cell_type": "code",
   "execution_count": 3,
   "metadata": {},
   "outputs": [
    {
     "name": "stdout",
     "output_type": "stream",
     "text": [
      "7\n",
      "[ 0 -1  0  1  2  1]\n"
     ]
    }
   ],
   "source": [
    "import numpy as np \n",
    "from numpy import random\n",
    "\n",
    "rng = np.random.default_rng()\n",
    "\n",
    "sorteio = rng.choice([-1,1], size = 5 ,p= [0.4,0.6]) # sorteando 5 vezes -1 ou 1 ( esquerda ou direita)\n",
    "\n",
    "\n",
    "x = np.concatenate(([0] , np.cumsum(sorteio)))\n",
    "\n",
    "random_num = random.randint(1,10)\n",
    "print(random_num)\n",
    "\n",
    "\n",
    "print(x)"
   ]
  }
 ],
 "metadata": {
  "kernelspec": {
   "display_name": "fiscomp",
   "language": "python",
   "name": "python3"
  },
  "language_info": {
   "codemirror_mode": {
    "name": "ipython",
    "version": 3
   },
   "file_extension": ".py",
   "mimetype": "text/x-python",
   "name": "python",
   "nbconvert_exporter": "python",
   "pygments_lexer": "ipython3",
   "version": "3.13.2"
  }
 },
 "nbformat": 4,
 "nbformat_minor": 2
}
