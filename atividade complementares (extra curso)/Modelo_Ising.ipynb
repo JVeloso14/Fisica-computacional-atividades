{
 "cells": [
  {
   "cell_type": "markdown",
   "metadata": {},
   "source": [
    "# Modelo de Ising 2D: uma aplicação da simulação de Monte Carlo \n",
    "\n",
    "A simulação de Monte Carlo consiste em gerar redes quadradas aleatórias que simulam os possíveis estados do sistema, e em seguida, calcula o fator de Boltzmann exp(-H/kBT) para cada um destes estados. Com este fator garante-se que o estado fundamental do sistema é o que tem menor energia. Dessa maneira, extrai-se informações dessas redes aleatórias para calcular a magnetização, energia livre de Helmholtz e outras grandezas termodinâmicas. Nesse contexto, é aplicado o algoritmo de Metrópolis, em que é selecionado um spin na rede e é calculada sua probabilidade de girar, isto é, passar de +1 para -1. Assim, é calculada a diferença de energia $\\Delta E$ como se este spin de fato girasse. Se $\\Delta E < 0$ então a energia do sistema permanece igual ou diminui, caso contrário $\\Delta E > 0$ e a \n",
    "energia do sistema aumenta. Na ocorrência deste segundo caso, deve-se escolher um outro valor  aleatório x que determine, por meio da probabilidade exp(-H /kBT), se o spin deve girar ou \n",
    "não. Se ele não girar, o estado a ser analisado continua sendo o mesmo da sequência anterior; e \n",
    "novamente um spin qualquer será selecionado para a análise. Este processo deve ser realizado \n",
    "tantas vezes quanto necessária para que todos os spins tenham muitas chances de serem girados."
   ]
  },
  {
   "cell_type": "code",
   "execution_count": null,
   "metadata": {},
   "outputs": [],
   "source": [
    "import numpy as np\n",
    "import matplotlib.pyplot as plt\n",
    "from numpy import random\n",
    "\n",
    "\n",
    "class IsingModel2D:\n",
    "    def __init__(self , N ):\n",
    "        self.N = N\n",
    "\n",
    "    def Ising_lattice(self):\n",
    "        \n",
    "\n",
    "        "
   ]
  }
 ],
 "metadata": {
  "kernelspec": {
   "display_name": "fiscomp",
   "language": "python",
   "name": "python3"
  },
  "language_info": {
   "name": "python",
   "version": "3.13.2"
  }
 },
 "nbformat": 4,
 "nbformat_minor": 2
}
