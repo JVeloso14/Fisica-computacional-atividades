{
 "cells": [
  {
   "cell_type": "code",
   "execution_count": null,
   "id": "a8025d92",
   "metadata": {},
   "outputs": [],
   "source": [
    "import numpy as np \n",
    "import matplotlib.pyplot as plt\n",
    "\n",
    "class DinamicaOrbital():\n",
    "    def __innit__(self, m1 , m2, m3):\n",
    "        self.m1 = m1\n",
    "        self.m2 = m2\n",
    "        self.m3 = m3 \n",
    "\n",
    "    def EDO_orbitas(self):\n",
    "        t = np.linspace(0, 15, 1000)  # 1000 pontos entre 0 e 15\n",
    "        r = [0, 1]  # Condições iniciais: y(0)=0 e y'(0)=1\n",
    "    \n"
   ]
  }
 ],
 "metadata": {
  "kernelspec": {
   "display_name": "fiscomp",
   "language": "python",
   "name": "python3"
  },
  "language_info": {
   "name": "python",
   "version": "3.13.2"
  }
 },
 "nbformat": 4,
 "nbformat_minor": 5
}
