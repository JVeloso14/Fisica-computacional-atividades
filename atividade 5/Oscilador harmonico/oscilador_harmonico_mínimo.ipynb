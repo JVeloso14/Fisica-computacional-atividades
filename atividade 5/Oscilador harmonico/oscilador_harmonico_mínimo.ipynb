{
 "cells": [
  {
   "cell_type": "markdown",
   "id": "9f52d762",
   "metadata": {},
   "source": [
    "Dada a equação diferencial da queda com resistência do ar $$\\frac{d^2 x}{dt^2} = - \\omega_0^2 x - b\\frac{dx}{dt},$$\n",
    "\n",
    "podemos considerar uma variável auxiliar para reduzir a ordem dessa EDO. Para isso, considera-se que $$v = \\frac{dx}{dt}$$ e assim\n",
    "\n",
    "$$ \\frac{dv}{dt} = - \\omega_0^2 x - bv. $$\n",
    "\n",
    "Para aplicações nos códigos que serão desenvolvidos nessa atividade, é conveniente expressar essa EDO em termos de uma matriz:\n",
    "\n",
    "$$\n",
    "\\frac{d}{dt} \n",
    "\\begin{bmatrix}\n",
    "x \\\\\n",
    "v\n",
    "\\end{bmatrix}\n",
    "=\n",
    "\\begin{bmatrix}\n",
    "v \\\\\n",
    " -\\omega_0^2 x -bv\n",
    "\\end{bmatrix}.\n",
    "$$\n",
    "\n",
    "Essa forma matricial é útil para resolver numericamente o sistema de equações diferenciais utilizando métodos computacionais. Ou também\n",
    "\n",
    "$$\n",
    "    \\frac{d}{dt}(x, v) = (v,  -\\omega_0^2 x -bv ).\n",
    "$$\n",
    "\n",
    "Essa equação vetorial será utilizada na simulação do método de Runge-kutta para resolver o oscilador harmonico amortecido.\n"
   ]
  }
 ],
 "metadata": {
  "language_info": {
   "name": "python"
  }
 },
 "nbformat": 4,
 "nbformat_minor": 5
}
