{
 "cells": [
  {
   "cell_type": "markdown",
   "id": "897866a8",
   "metadata": {},
   "source": [
    "# Explicação do que significa o método de Euler ser de segunda ordem e o de RK4 ser de quarta ordem. Como isso afeta a precisão das evoluções temporais?"
   ]
  }
 ],
 "metadata": {
  "kernelspec": {
   "display_name": "fiscomp",
   "language": "python",
   "name": "python3"
  },
  "language_info": {
   "name": "python",
   "version": "3.13.2"
  }
 },
 "nbformat": 4,
 "nbformat_minor": 5
}
