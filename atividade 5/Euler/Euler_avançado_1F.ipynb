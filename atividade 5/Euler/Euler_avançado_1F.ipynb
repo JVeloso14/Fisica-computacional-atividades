{
 "cells": [
  {
   "cell_type": "markdown",
   "id": "897866a8",
   "metadata": {},
   "source": [
    "# Explicação do que significa o método de Euler ser de segunda ordem e o de RK4 ser de quarta ordem. Como isso afeta a precisão das evoluções temporais?"
   ]
  },
  {
   "cell_type": "markdown",
   "id": "59880559",
   "metadata": {},
   "source": [
    "Para essa análise, podemos observar o erro de truncamento correspondente a cada método, por meio da série de Taylor. $$y(x)= y(a) +y'(a)\\frac{x-a}{1!} + ... + y^{(k)}(a) \\frac{(x-a)^k}{k!} +  y^{(n)} (c) \\frac{(x-a)^(k+1)}{(k+1)!}$$ , onde c está entre a e x. \n",
    "\n",
    "\n",
    " No caso de Euler, basta analisar o polinômio de Taylor de ordem 1 com resto. Para isso, temos que $a = x_n$ e $x = x_{n+1}= x_n + h$  e $y'(x_n) = f(x_n, y_n)$, obtendo $$ y(x_{n+1})= y_n + hf(x_n, y_n)  + y''(c)\\frac{h^2}{2!} = L_n(x_n) +  y''(c)\\frac{h^2}{2!}. $$ \n",
    "\n",
    " Com isso, percebe-se que o erro de truncamento local $y(x_{n+1}) -  L_n(x_n) =   y''(c)\\frac{h^2}{2!}$ tem ordem 2  ($O(h^2)$). \n",
    "\n",
    " Já no caso do método de Runge Kutta de quarta ordem: \n",
    "\n",
    "$$\n",
    "y(x) = y(a) + y'(a)\\frac{x - a}{1!} + \\dots + y^{(k)}(a)\\frac{(x - a)^k}{k!} \n",
    "       + y^{(n)}(c)\\frac{(x - a)^{\\,k+1}}{(k+1)!},\n",
    "\\quad c \\in (a, x).\n",
    "$$\n",
    "\n",
    "\n",
    "\n",
    "Para o Runge–Kutta de 4ª ordem, usamos a Taylor de grau 4 com resto. Com\n",
    "$$\n",
    "a = x_n,\\quad\n",
    "x = x_{n+1} = x_n + h,\n",
    "$$\n",
    "temos\n",
    "$$\n",
    "y(x_{n+1})\n",
    "= y(x_n) \n",
    "  + h\\,y'(x_n)\n",
    "  + \\frac{h^2}{2!}\\,y''(x_n)\n",
    "  + \\frac{h^3}{3!}\\,y'''(x_n)\n",
    "  + \\frac{h^4}{4!}\\,y^{(4)}(x_n)\n",
    "  + y^{(5)}(c)\\,\\frac{h^5}{5!}.\n",
    "$$\n",
    "Definimos\n",
    "$$\n",
    "\\begin{aligned}\n",
    "k_1 &= h\\,f(x_n, y_n),\\\\\n",
    "k_2 &= h\\,f\\bigl(x_n + \\tfrac12h,\\;y_n + \\tfrac12\\,k_1\\bigr),\\\\\n",
    "k_3 &= h\\,f\\bigl(x_n + \\tfrac12h,\\;y_n + \\tfrac12\\,k_2\\bigr),\\\\\n",
    "k_4 &= h\\,f\\bigl(x_n + h,\\;y_n + k_3\\bigr),\n",
    "\\end{aligned}\n",
    "$$\n",
    "e o passo\n",
    "$$\n",
    "y_{n+1}\n",
    "= y_n + \\frac{1}{6}\\bigl(k_1 + 2k_2 + 2k_3 + k_4\\bigr)\n",
    "= L_n(x_n).\n",
    "$$\n",
    "O erro de truncamento local é então\n",
    "$$\n",
    "y(x_{n+1}) - L_n(x_n)\n",
    "= y^{(5)}(c)\\,\\frac{h^5}{5!}\n",
    "= O(h^5).\n",
    "$$\n",
    "\n",
    "onde $O$ tem a forma $O^{p+1}$, que nesse caso $p=4$ e no caso de Euler $p=1$. Fazendo uma comparação entre os resultados, se reduzirmos pela metade os passos de $h$ no caso de Euler, o reduzira por um fator de 1/2 $(O(h/2)^2) = O(h^2/4)$. Já o RK4, $O((h/2)^5) = O(h^5/32)$. De forma análoga, é possível comparar a eficiencia do método RK4 utilizando h maiores, mas mesmo assim obtendo erros menores. Considerando $h/2$ para RK4 e $h/5$ para Euler, temos que para RK4 $O(h^5/32)$ enquanto para Euler $O(h^2/25)$\n",
    ", obtendo um erro ainda muito menor. Isso foi analisado graficamente na atividade 1E. \n",
    "\n"
   ]
  }
 ],
 "metadata": {
  "kernelspec": {
   "display_name": "fiscomp",
   "language": "python",
   "name": "python3"
  },
  "language_info": {
   "name": "python",
   "version": "3.13.2"
  }
 },
 "nbformat": 4,
 "nbformat_minor": 5
}
