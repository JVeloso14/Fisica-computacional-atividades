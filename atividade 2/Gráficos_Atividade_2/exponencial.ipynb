{
 "cells": [
  {
   "cell_type": "markdown",
   "metadata": {},
   "source": [
    "# Funções exponenciais - atividade 2 mínima\n",
    "\n",
    "Por meio das bibliotecas numpy e matplotlib, as funções $$f(x)_1 = e^x,$$ $$f(x)_2 = e^{-10x},$$ $$f(x)_3 = e^{-10x},$$\n",
    "foram criadas para visualizar o comportamento para diferentes valores da constante $a$. Dessa maneira, as funções foram plotadas pelo ```plt.plot()``` com diferentes cores, para um certo intervalo de x com 500 subintervalos (```np.linspace```).  \n"
   ]
  },
  {
   "cell_type": "code",
   "execution_count": null,
   "metadata": {},
   "outputs": [],
   "source": [
    "import numpy as np\n",
    "import matplotlib.pyplot as plt\n",
    "\n",
    "x = np.linspace(-5, 2, 500)\n",
    "func1 = np.exp(x)\n",
    "func2 =np.exp(-10 * x)\n",
    "func3 =np.exp(10 * x)\n",
    "\n",
    "plt.figure(figsize=(8, 6))\n",
    "plt.title(\"Gráfico de y = exp(ax)\")\n",
    "plt.plot(x, func1, label='f(x) = exp(x)', color='blue') #plota a função no gráfico, na cor azul \n",
    "plt.plot(x, func2, label='f(x) = exp(-10x)', color='red')\n",
    "plt.plot(x, func3, label='f(x) = exp(10x)', color='black')\n",
    "plt.xlabel('x')\n",
    "plt.ylabel('f(x)')\n",
    "plt.legend()\n",
    "plt.ylim(-0.5, 8)  # Limitando o eixo y para melhor visualização\n",
    "plt.xlim(-4, 2)    # Limitando o eixo x para mostrar o comportamento negativo\n",
    "plt.show()\n"
   ]
  }
 ],
 "metadata": {
  "kernelspec": {
   "display_name": "base",
   "language": "python",
   "name": "python3"
  },
  "language_info": {
   "codemirror_mode": {
    "name": "ipython",
    "version": 3
   },
   "file_extension": ".py",
   "mimetype": "text/x-python",
   "name": "python",
   "nbconvert_exporter": "python",
   "pygments_lexer": "ipython3",
   "version": "3.11.5"
  }
 },
 "nbformat": 4,
 "nbformat_minor": 2
}
