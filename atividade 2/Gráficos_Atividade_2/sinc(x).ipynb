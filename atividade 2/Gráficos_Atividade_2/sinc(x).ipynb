{
 "cells": [
  {
   "cell_type": "markdown",
   "metadata": {},
   "source": [
    "# Função sinc(x) - atividade 2 mínima\n",
    "\n",
    "A função $sinc(x)$ é definida por $$sinc(x) = \\frac{\\sin{x}}{x}.$$ Dessa forma, por meio das bibliotecas ```numpy``` e ```matplotlib```, foram utilizadas as mesmas funções abordadas na atividade de Bhaskara da atividade 2 para o plot do gráfico.\n",
    "\n"
   ]
  },
  {
   "cell_type": "code",
   "execution_count": null,
   "metadata": {},
   "outputs": [],
   "source": [
    "import numpy as np\n",
    "import matplotlib.pyplot as plt\n",
    "\n",
    "\n",
    "x = np.linspace(-50,50, 200) #definindo o x e o intervalo de -50 a 50 , com 200 subnintervalos\n",
    "\n",
    "sinc_x = np.sin(x)/x #a função\n",
    "\n",
    "plt.figure(figsize=(8, 6))\n",
    "plt.title(\"Gráfico de y = sen(x)/x\")\n",
    "plt.plot(x, sinc_x, label='f(x) = sen(x)/x', color='blue')\n",
    "plt.xlabel('x')\n",
    "plt.ylabel('f(x)')\n",
    "plt.legend()\n",
    "plt.ylim(-0.5, 1.5)  # Limitando o eixo y para melhor visualização\n",
    "plt.xlim(-50,50)    # Limitando o eixo x para mostrar o comportamento negativo\n",
    "plt.show()"
   ]
  }
 ],
 "metadata": {
  "kernelspec": {
   "display_name": "base",
   "language": "python",
   "name": "python3"
  },
  "language_info": {
   "codemirror_mode": {
    "name": "ipython",
    "version": 3
   },
   "file_extension": ".py",
   "mimetype": "text/x-python",
   "name": "python",
   "nbconvert_exporter": "python",
   "pygments_lexer": "ipython3",
   "version": "3.11.5"
  }
 },
 "nbformat": 4,
 "nbformat_minor": 2
}
