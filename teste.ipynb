{
 "cells": [
  {
   "cell_type": "code",
   "execution_count": 8,
   "metadata": {},
   "outputs": [
    {
     "name": "stdout",
     "output_type": "stream",
     "text": [
      "5\n"
     ]
    }
   ],
   "source": [
    "#Demonstração do funcionamento do monte carlo rapido \n",
    "\n",
    "import numpy as np\n",
    "\n",
    "x = [1,2,3,4,5]\n",
    "y = [1,2,3,4,5]\n",
    "\n",
    "soma = np.square(x)+ np.square(y)\n",
    "\n",
    "teste = np.sum(soma <= 100)\n",
    "\n",
    "print(teste)\n",
    "\n"
   ]
  }
 ],
 "metadata": {
  "kernelspec": {
   "display_name": "fiscomp",
   "language": "python",
   "name": "python3"
  },
  "language_info": {
   "codemirror_mode": {
    "name": "ipython",
    "version": 3
   },
   "file_extension": ".py",
   "mimetype": "text/x-python",
   "name": "python",
   "nbconvert_exporter": "python",
   "pygments_lexer": "ipython3",
   "version": "3.13.2"
  }
 },
 "nbformat": 4,
 "nbformat_minor": 2
}
